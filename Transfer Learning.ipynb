{
  "cells": [
    {
      "cell_type": "markdown",
      "metadata": {},
      "source": [
        "# Importing Packages"
      ]
    },
    {
      "cell_type": "code",
      "execution_count": null,
      "metadata": {
        "colab": {
          "base_uri": "https://localhost:8080/"
        },
        "id": "wxrWB3z9pQ0o",
        "outputId": "ae58e3ca-baa8-4292-cb4a-3f04d6672be6"
      },
      "outputs": [
        {
          "name": "stdout",
          "output_type": "stream",
          "text": [
            "Drive already mounted at /content/drive; to attempt to forcibly remount, call drive.mount(\"/content/drive\", force_remount=True).\n"
          ]
        }
      ],
      "source": [
        "# from google.colab import drive\n",
        "# drive.mount('/content/drive')"
      ]
    },
    {
      "cell_type": "code",
      "execution_count": 1,
      "metadata": {
        "colab": {
          "base_uri": "https://localhost:8080/"
        },
        "id": "mfEZliSqpXpR",
        "outputId": "bca8f9a9-a483-47e1-e57a-b9d06bb336bd"
      },
      "outputs": [
        {
          "name": "stdout",
          "output_type": "stream",
          "text": [
            "Device is cuda\n"
          ]
        }
      ],
      "source": [
        "from torch.utils.data import Dataset, DataLoader\n",
        "import glob\n",
        "import cv2 as cv\n",
        "import matplotlib.pyplot as plt\n",
        "import torch\n",
        "import torch.nn as nn\n",
        "import torch.nn.functional as F\n",
        "import torch.optim as optim\n",
        "from IPython.display import clear_output\n",
        "from torchvision import models, transforms, datasets\n",
        "\n",
        "device = torch.device('cuda' if torch.cuda.is_available else 'cpu')\n",
        "print(f'Device is {device}')"
      ]
    },
    {
      "cell_type": "markdown",
      "metadata": {},
      "source": [
        "# Custom Dataset Preparation"
      ]
    },
    {
      "cell_type": "code",
      "execution_count": null,
      "metadata": {
        "id": "4-A1JQpIrQvK"
      },
      "outputs": [],
      "source": [
        "class CustomDataset(Dataset):\n",
        "  def __init__(self, data_path):\n",
        "    self.imgs_path = data_path\n",
        "    file_list = glob.glob(self.imgs_path + '/*')\n",
        "    self.data = []\n",
        "    for class_path in file_list:\n",
        "      class_name = int(class_path.split(\"/\")[-1][-1])\n",
        "      for image in glob.glob(class_path +\"/*.jpg\"):\n",
        "        self.data.append([image, class_name])\n",
        "    self.image_size = (224,224)\n",
        "\n",
        "  def __len__(self):\n",
        "    return len(self.data)\n",
        "\n",
        "  def __getitem__(self, idx):\n",
        "    image, class_name = self.data[idx]\n",
        "    image = cv.imread(image)\n",
        "    image = cv.resize(image, self.image_size)\n",
        "    image_tensor = torch.from_numpy(image)\n",
        "    image_tensor = image_tensor.permute(2,0,1)\n",
        "    class_id = torch.tensor(class_name)\n",
        "\n",
        "    return image_tensor, class_id\n",
        "\n"
      ]
    },
    {
      "cell_type": "code",
      "execution_count": null,
      "metadata": {
        "id": "-zwdjojPrSKy"
      },
      "outputs": [],
      "source": [
        "training_path = 'data/training'\n",
        "testing_path = 'data/validation'\n",
        "train_data = CustomDataset(training_path)\n",
        "test_data = CustomDataset(testing_path)"
      ]
    },
    {
      "cell_type": "code",
      "execution_count": null,
      "metadata": {
        "id": "Y7b_6gIBrTrr"
      },
      "outputs": [],
      "source": [
        "train_batch_size = 16\n",
        "test_batch_size = 16"
      ]
    },
    {
      "cell_type": "code",
      "execution_count": null,
      "metadata": {
        "id": "MQCefmYxrU6n"
      },
      "outputs": [],
      "source": [
        "train_loader = DataLoader(train_data, batch_size = train_batch_size, shuffle = True)\n",
        "test_loader = DataLoader(test_data, batch_size = test_batch_size, shuffle = True)"
      ]
    },
    {
      "cell_type": "markdown",
      "metadata": {},
      "source": [
        "# Custom Architecture for Monkey classification"
      ]
    },
    {
      "cell_type": "markdown",
      "metadata": {},
      "source": [
        "### Neural Network"
      ]
    },
    {
      "cell_type": "code",
      "execution_count": null,
      "metadata": {
        "id": "__1olPy2rWPB"
      },
      "outputs": [],
      "source": [
        "class CNN(nn.Module):\n",
        "  def __init__(self):\n",
        "    super(CNN, self).__init__()\n",
        "    self.conv1 = nn.Conv2d(in_channels = 3, out_channels = 6, kernel_size = 3)\n",
        "    self.pool1 = nn.MaxPool2d(2)\n",
        "    self.conv2 = nn.Conv2d(in_channels = 6, out_channels = 12, kernel_size = 3)\n",
        "    self.pool2 = nn.MaxPool2d(2)\n",
        "    self.conv3 = nn.Conv2d(in_channels = 12, out_channels = 16, kernel_size = 3)\n",
        "    self.pool3 = nn.MaxPool2d(2)\n",
        "    self.conv4 = nn.Conv2d(in_channels = 16, out_channels = 32, kernel_size = 3)\n",
        "    self.pool4 = nn.MaxPool2d(2)\n",
        "    self.conv5 = nn.Conv2d(in_channels = 32, out_channels = 64, kernel_size = 3)\n",
        "    self.pool5 = nn.MaxPool2d(2)\n",
        "    self.fc1 = nn.Linear(1600,120)\n",
        "    self.fc2 = nn.Linear(120,10)\n",
        "\n",
        "\n",
        "  def forward(self, x):\n",
        "    out1 = self.pool1(F.relu(self.conv1(x)))\n",
        "    out2 = self.pool2(F.relu(self.conv2(out1)))\n",
        "    out3 = self.pool3(F.relu(self.conv3(out2)))\n",
        "    out4 = self.pool4(F.relu(self.conv4(out3)))\n",
        "    out5 = self.pool5(F.relu(self.conv5(out4)))\n",
        "    out5 = out5.reshape(out5.shape[0], -1)\n",
        "    out6 = F.relu(self.fc1(out5))\n",
        "    out7 = F.relu(self.fc2(out6))\n",
        "    \n",
        "    return F.softmax(out7, dim=1)\n"
      ]
    },
    {
      "cell_type": "markdown",
      "metadata": {},
      "source": [
        "### Model Initiliazation"
      ]
    },
    {
      "cell_type": "code",
      "execution_count": null,
      "metadata": {
        "colab": {
          "base_uri": "https://localhost:8080/"
        },
        "id": "Atud4siqraBE",
        "outputId": "5753e146-20fc-4809-e94a-a9bfca489530"
      },
      "outputs": [
        {
          "data": {
            "text/plain": [
              "CNN(\n",
              "  (conv1): Conv2d(3, 6, kernel_size=(3, 3), stride=(1, 1))\n",
              "  (pool1): MaxPool2d(kernel_size=2, stride=2, padding=0, dilation=1, ceil_mode=False)\n",
              "  (conv2): Conv2d(6, 12, kernel_size=(3, 3), stride=(1, 1))\n",
              "  (pool2): MaxPool2d(kernel_size=2, stride=2, padding=0, dilation=1, ceil_mode=False)\n",
              "  (conv3): Conv2d(12, 16, kernel_size=(3, 3), stride=(1, 1))\n",
              "  (pool3): MaxPool2d(kernel_size=2, stride=2, padding=0, dilation=1, ceil_mode=False)\n",
              "  (conv4): Conv2d(16, 32, kernel_size=(3, 3), stride=(1, 1))\n",
              "  (pool4): MaxPool2d(kernel_size=2, stride=2, padding=0, dilation=1, ceil_mode=False)\n",
              "  (conv5): Conv2d(32, 64, kernel_size=(3, 3), stride=(1, 1))\n",
              "  (pool5): MaxPool2d(kernel_size=2, stride=2, padding=0, dilation=1, ceil_mode=False)\n",
              "  (fc1): Linear(in_features=1600, out_features=120, bias=True)\n",
              "  (fc2): Linear(in_features=120, out_features=10, bias=True)\n",
              ")"
            ]
          },
          "execution_count": 111,
          "metadata": {},
          "output_type": "execute_result"
        }
      ],
      "source": [
        "model = CNN()\n",
        "model.to(device)"
      ]
    },
    {
      "cell_type": "markdown",
      "metadata": {},
      "source": [
        "### Hyperparameter"
      ]
    },
    {
      "cell_type": "code",
      "execution_count": null,
      "metadata": {
        "id": "Pr2R1VgrVZGt"
      },
      "outputs": [],
      "source": [
        "n_epoch = 100\n",
        "learning_rate = 10e-5\n",
        "criterion  = nn.CrossEntropyLoss()\n",
        "optimizer = optim.Adam(model.parameters(), lr = learning_rate)\n"
      ]
    },
    {
      "cell_type": "markdown",
      "metadata": {},
      "source": [
        "### Training Loop"
      ]
    },
    {
      "cell_type": "code",
      "execution_count": null,
      "metadata": {
        "id": "TTt4XsU5rbij"
      },
      "outputs": [],
      "source": [
        "def train():\n",
        "\n",
        "  model.train()\n",
        "  train_error = []\n",
        "  \n",
        "  for epoch in range(n_epoch):\n",
        "    total_loss = 0\n",
        "    n_batches = 0\n",
        "    for i, (images, labels) in enumerate(train_loader):\n",
        "\n",
        "      n_batches += 1\n",
        "\n",
        "      images = images.float()\n",
        "      images = images.to(device)\n",
        "      labels = labels.type(torch.LongTensor)\n",
        "      labels = labels.to(device)\n",
        "\n",
        "      output = model(images)\n",
        "      loss = criterion(output, labels)\n",
        "      total_loss += loss.item()\n",
        "      optimizer.zero_grad()\n",
        "      loss.backward()\n",
        "      optimizer.step()\n",
        "    \n",
        "    avg_loss = total_loss/n_batches\n",
        "    train_error.append(avg_loss)\n",
        "    clear_output(wait = True)\n",
        "    plt.plot(train_error)\n",
        "    plt.xlabel('Epoch')\n",
        "    plt.ylabel('Training Error')\n",
        "    plt.title('Training Error vs Epoch')\n",
        "    plt.show()\n",
        "    print(f'Epoch [{epoch}/{n_epoch}], Loss : {avg_loss:.3f}')\n",
        "\n",
        "  return train_error"
      ]
    },
    {
      "cell_type": "markdown",
      "metadata": {},
      "source": [
        "### Testing Loop"
      ]
    },
    {
      "cell_type": "code",
      "execution_count": null,
      "metadata": {
        "id": "lPiF4LGJrc2Y"
      },
      "outputs": [],
      "source": [
        "train_error = train()"
      ]
    },
    {
      "cell_type": "code",
      "execution_count": null,
      "metadata": {
        "id": "XWfPWI2erfAv"
      },
      "outputs": [],
      "source": [
        "def test():\n",
        "  with torch.no_grad():\n",
        "    model.eval()\n",
        "    n_correct = 0\n",
        "    n_total = 0\n",
        "\n",
        "    for i, (images,labels) in enumerate(test_loader):\n",
        "      images = images.to(device).float()\n",
        "      labels = labels.to(device)\n",
        "      output = model(images)\n",
        "      predict = output.argmax(dim=1)\n",
        "      n_correct += (predict == labels).sum().item()\n",
        "      n_total += len(labels)\n",
        "\n",
        "  print(f'Test Accuracy: {n_correct*100/n_total}')\n",
        "  "
      ]
    },
    {
      "cell_type": "code",
      "execution_count": null,
      "metadata": {
        "id": "YrYqGCNlrf9W"
      },
      "outputs": [],
      "source": [
        "test()"
      ]
    },
    {
      "cell_type": "markdown",
      "metadata": {
        "id": "cmQSA3h1T21V"
      },
      "source": [
        "# Transfer Learning with only classification (FC) parameter tuning"
      ]
    },
    {
      "cell_type": "markdown",
      "metadata": {},
      "source": [
        "### Loading pretraining ResNet"
      ]
    },
    {
      "cell_type": "code",
      "execution_count": null,
      "metadata": {
        "colab": {
          "base_uri": "https://localhost:8080/",
          "height": 156,
          "referenced_widgets": [
            "2f8b0d0510dc4bed9afbbd5e98c8fa4e",
            "4eae2f520a3b4aa0b3b68c2f3691cf72",
            "5cfa324e78bd43e390579d198b120de2",
            "3ff7576512c64e57b72b5c1d59f94442",
            "eec3827a877446369c091c2f379f8ac0",
            "0f517685744f4b4d9b03564ea1c790e2",
            "1037f5f8522d4f9dab224ccdbf2a7ca1",
            "925cdd736bd4463c9286246e52e0364b",
            "3e605c053a8f419b8b0a3db48340aa6b",
            "981b5f1c1b824863b8237ff660361486",
            "ca119f6ad8a34f1ea4079ee3967d56d3"
          ]
        },
        "id": "65clBCiG09KS",
        "outputId": "ca07dd0e-fc15-43de-d097-2653081eabc0"
      },
      "outputs": [
        {
          "name": "stderr",
          "output_type": "stream",
          "text": [
            "/usr/local/lib/python3.8/dist-packages/torchvision/models/_utils.py:208: UserWarning: The parameter 'pretrained' is deprecated since 0.13 and may be removed in the future, please use 'weights' instead.\n",
            "  warnings.warn(\n",
            "/usr/local/lib/python3.8/dist-packages/torchvision/models/_utils.py:223: UserWarning: Arguments other than a weight enum or `None` for 'weights' are deprecated since 0.13 and may be removed in the future. The current behavior is equivalent to passing `weights=ResNet34_Weights.IMAGENET1K_V1`. You can also use `weights=ResNet34_Weights.DEFAULT` to get the most up-to-date weights.\n",
            "  warnings.warn(msg)\n",
            "Downloading: \"https://download.pytorch.org/models/resnet34-b627a593.pth\" to /root/.cache/torch/hub/checkpoints/resnet34-b627a593.pth\n"
          ]
        },
        {
          "data": {
            "application/vnd.jupyter.widget-view+json": {
              "model_id": "2f8b0d0510dc4bed9afbbd5e98c8fa4e",
              "version_major": 2,
              "version_minor": 0
            },
            "text/plain": [
              "  0%|          | 0.00/83.3M [00:00<?, ?B/s]"
            ]
          },
          "metadata": {},
          "output_type": "display_data"
        }
      ],
      "source": [
        "model = models.resnet34(pretrained=True)"
      ]
    },
    {
      "cell_type": "markdown",
      "metadata": {},
      "source": [
        "### Freezing convolutional layer weight"
      ]
    },
    {
      "cell_type": "code",
      "execution_count": null,
      "metadata": {
        "id": "SiXYJ929ToZO"
      },
      "outputs": [],
      "source": [
        "for name, param in model.named_parameters():\n",
        "  if 'fc' in name:\n",
        "    continue\n",
        "  param.requires_grad = False"
      ]
    },
    {
      "cell_type": "markdown",
      "metadata": {},
      "source": [
        "### Modifying last layer"
      ]
    },
    {
      "cell_type": "code",
      "execution_count": null,
      "metadata": {
        "id": "OHaTlLzmTpQE"
      },
      "outputs": [],
      "source": [
        "num_feature = model.fc.in_features\n",
        "model.fc = nn.Linear(num_feature,10)"
      ]
    },
    {
      "cell_type": "markdown",
      "metadata": {},
      "source": [
        "### Hyperparameter"
      ]
    },
    {
      "cell_type": "code",
      "execution_count": null,
      "metadata": {
        "id": "tbUsSx8CUBB9"
      },
      "outputs": [],
      "source": [
        "n_epoch = 100\n",
        "learning_rate = 10e-5"
      ]
    },
    {
      "cell_type": "markdown",
      "metadata": {},
      "source": [
        "### Initializing Network"
      ]
    },
    {
      "cell_type": "code",
      "execution_count": null,
      "metadata": {
        "id": "Gbu62InHUBul"
      },
      "outputs": [],
      "source": [
        "model.to(device)\n",
        "criterion  = nn.CrossEntropyLoss()\n",
        "optimizer = optim.Adam(model.parameters(), lr = learning_rate)"
      ]
    },
    {
      "cell_type": "markdown",
      "metadata": {},
      "source": [
        "### Training Loop"
      ]
    },
    {
      "cell_type": "code",
      "execution_count": null,
      "metadata": {
        "id": "EbdE7GHLTrNN"
      },
      "outputs": [],
      "source": [
        "def train():\n",
        "\n",
        "  model.train()\n",
        "  train_error = []\n",
        "  \n",
        "  for epoch in range(n_epoch):\n",
        "    total_loss = 0\n",
        "    n_batches = 0\n",
        "    for i, (images, labels) in enumerate(train_loader):\n",
        "\n",
        "      n_batches += 1\n",
        "\n",
        "      images = images.float()\n",
        "      images = images.to(device)\n",
        "      labels = labels.type(torch.LongTensor)\n",
        "      labels = labels.to(device)\n",
        "\n",
        "      output = model(images)\n",
        "      loss = criterion(output, labels)\n",
        "      total_loss += loss.item()\n",
        "      optimizer.zero_grad()\n",
        "      loss.backward()\n",
        "      optimizer.step()\n",
        "    \n",
        "    avg_loss = total_loss/n_batches\n",
        "    train_error.append(avg_loss)\n",
        "    clear_output(wait = True)\n",
        "    plt.plot(train_error)\n",
        "    plt.xlabel('Epoch')\n",
        "    plt.ylabel('Training Error')\n",
        "    plt.title('Training Error vs Epoch')\n",
        "    plt.show()\n",
        "    print(f'Epoch [{epoch}/{n_epoch}], Loss : {avg_loss:.3f}')\n",
        "\n",
        "  return train_error"
      ]
    },
    {
      "cell_type": "code",
      "execution_count": null,
      "metadata": {
        "colab": {
          "base_uri": "https://localhost:8080/",
          "height": 312
        },
        "id": "wdgoPfrgUGQ3",
        "outputId": "d56050cb-37a7-4096-f624-1c348df19d88"
      },
      "outputs": [
        {
          "data": {
            "image/png": "[encoded data removed]",
            "text/plain": [
              "<Figure size 432x288 with 1 Axes>"
            ]
          },
          "metadata": {
            "needs_background": "light"
          },
          "output_type": "display_data"
        },
        {
          "name": "stdout",
          "output_type": "stream",
          "text": [
            "Epoch [99/100], Loss : 0.128\n"
          ]
        }
      ],
      "source": [
        "train_error = train()"
      ]
    },
    {
      "cell_type": "markdown",
      "metadata": {},
      "source": [
        "### Testing Loop"
      ]
    },
    {
      "cell_type": "code",
      "execution_count": null,
      "metadata": {
        "id": "ZkwZkTfoUIjM"
      },
      "outputs": [],
      "source": [
        "def test():\n",
        "  with torch.no_grad():\n",
        "    model.eval()\n",
        "    n_correct = 0\n",
        "    n_total = 0\n",
        "\n",
        "    for i, (images,labels) in enumerate(test_loader):\n",
        "      images = images.to(device).float()\n",
        "      labels = labels.to(device)\n",
        "      output = model(images)\n",
        "      predict = output.argmax(dim=1)\n",
        "      n_correct += (predict == labels).sum().item()\n",
        "      n_total += len(labels)\n",
        "\n",
        "  print(f'Test Accuracy: {n_correct*100/n_total}')"
      ]
    },
    {
      "cell_type": "code",
      "execution_count": null,
      "metadata": {
        "colab": {
          "base_uri": "https://localhost:8080/"
        },
        "id": "8KRYEsahUvvx",
        "outputId": "22192def-81c9-430a-b0d1-752a9d0de652"
      },
      "outputs": [
        {
          "name": "stdout",
          "output_type": "stream",
          "text": [
            "Test Accuracy: 95.58823529411765\n"
          ]
        }
      ],
      "source": [
        "test()"
      ]
    },
    {
      "cell_type": "markdown",
      "metadata": {
        "id": "rlek-cXdhRdA"
      },
      "source": [
        "# Transfer Learning with all layer parameter tuning"
      ]
    },
    {
      "cell_type": "markdown",
      "metadata": {},
      "source": [
        "### Loading Pretrained Model"
      ]
    },
    {
      "cell_type": "code",
      "execution_count": null,
      "metadata": {
        "id": "icnzvjXfhVAW"
      },
      "outputs": [],
      "source": [
        "model = models.resnet34(pretrained=True)"
      ]
    },
    {
      "cell_type": "markdown",
      "metadata": {},
      "source": [
        "### Modifying last layer"
      ]
    },
    {
      "cell_type": "code",
      "execution_count": null,
      "metadata": {
        "id": "Vj9dNK0vhaXA"
      },
      "outputs": [],
      "source": [
        "num_feature = model.fc.in_features\n",
        "model.fc = nn.Linear(num_feature,10)"
      ]
    },
    {
      "cell_type": "markdown",
      "metadata": {},
      "source": [
        "### Hyperparameter"
      ]
    },
    {
      "cell_type": "code",
      "execution_count": null,
      "metadata": {
        "id": "GtAaOEIlhcyD"
      },
      "outputs": [],
      "source": [
        "n_epoch = 100\n",
        "learning_rate = 10e-5"
      ]
    },
    {
      "cell_type": "markdown",
      "metadata": {},
      "source": [
        "### Initializing Model"
      ]
    },
    {
      "cell_type": "code",
      "execution_count": null,
      "metadata": {
        "id": "8V13QUkwhfBk"
      },
      "outputs": [],
      "source": [
        "model.to(device)\n",
        "criterion  = nn.CrossEntropyLoss()\n",
        "optimizer = optim.Adam(model.parameters(), lr = learning_rate)"
      ]
    },
    {
      "cell_type": "markdown",
      "metadata": {},
      "source": [
        "### Training Loop"
      ]
    },
    {
      "cell_type": "code",
      "execution_count": null,
      "metadata": {
        "id": "95prsUyMhiDb"
      },
      "outputs": [],
      "source": [
        "def train():\n",
        "\n",
        "  model.train()\n",
        "  train_error = []\n",
        "  \n",
        "  for epoch in range(n_epoch):\n",
        "    total_loss = 0\n",
        "    n_batches = 0\n",
        "    for i, (images, labels) in enumerate(train_loader):\n",
        "\n",
        "      n_batches += 1\n",
        "\n",
        "      images = images.float()\n",
        "      images = images.to(device)\n",
        "      labels = labels.type(torch.LongTensor)\n",
        "      labels = labels.to(device)\n",
        "\n",
        "      output = model(images)\n",
        "      loss = criterion(output, labels)\n",
        "      total_loss += loss.item()\n",
        "      optimizer.zero_grad()\n",
        "      loss.backward()\n",
        "      optimizer.step()\n",
        "    \n",
        "    avg_loss = total_loss/n_batches\n",
        "    train_error.append(avg_loss)\n",
        "    clear_output(wait = True)\n",
        "    plt.plot(train_error)\n",
        "    plt.xlabel('Epoch')\n",
        "    plt.ylabel('Training Error')\n",
        "    plt.title('Training Error vs Epoch')\n",
        "    plt.show()\n",
        "    print(f'Epoch [{epoch}/{n_epoch}], Loss : {avg_loss:.3f}')\n",
        "\n",
        "  return train_error"
      ]
    },
    {
      "cell_type": "code",
      "execution_count": null,
      "metadata": {
        "colab": {
          "base_uri": "https://localhost:8080/",
          "height": 312
        },
        "id": "7IOaL4vqhlAB",
        "outputId": "79bd811e-2a49-4332-eb2f-40cbf6afe07a"
      },
      "outputs": [
        {
          "data": {
            "image/png": "[encoded data removed]",
            "text/plain": [
              "<Figure size 432x288 with 1 Axes>"
            ]
          },
          "metadata": {
            "needs_background": "light"
          },
          "output_type": "display_data"
        },
        {
          "name": "stdout",
          "output_type": "stream",
          "text": [
            "Epoch [99/100], Loss : 0.029\n"
          ]
        }
      ],
      "source": [
        "train_error = train()"
      ]
    },
    {
      "cell_type": "markdown",
      "metadata": {},
      "source": [
        "### Testing Loop"
      ]
    },
    {
      "cell_type": "code",
      "execution_count": null,
      "metadata": {
        "id": "kylEMbcZhoRB"
      },
      "outputs": [],
      "source": [
        "def test():\n",
        "  with torch.no_grad():\n",
        "    model.eval()\n",
        "    n_correct = 0\n",
        "    n_total = 0\n",
        "\n",
        "    for i, (images,labels) in enumerate(test_loader):\n",
        "      images = images.to(device).float()\n",
        "      labels = labels.to(device)\n",
        "      output = model(images)\n",
        "      predict = output.argmax(dim=1)\n",
        "      n_correct += (predict == labels).sum().item()\n",
        "      n_total += len(labels)\n",
        "\n",
        "  print(f'Test Accuracy: {n_correct*100/n_total}')"
      ]
    },
    {
      "cell_type": "code",
      "execution_count": null,
      "metadata": {
        "colab": {
          "base_uri": "https://localhost:8080/"
        },
        "id": "tgE-FvwEhqW5",
        "outputId": "be7bcdec-61f0-42bb-8c49-6ebc3edbe678"
      },
      "outputs": [
        {
          "name": "stdout",
          "output_type": "stream",
          "text": [
            "Test Accuracy: 95.58823529411765\n"
          ]
        }
      ],
      "source": [
        "test()"
      ]
    }
  ],
  "metadata": {
    "accelerator": "GPU",
    "colab": {
      "provenance": []
    },
    "gpuClass": "standard",
    "kernelspec": {
      "display_name": "Python 3",
      "name": "python3"
    },
    "language_info": {
      "codemirror_mode": {
        "name": "ipython",
        "version": 3
      },
      "file_extension": ".py",
      "mimetype": "text/x-python",
      "name": "python",
      "nbconvert_exporter": "python",
      "pygments_lexer": "ipython3",
      "version": "3.7.13"
    },
    "widgets": {
      "application/vnd.jupyter.widget-state+json": {
        "0f517685744f4b4d9b03564ea1c790e2": {
          "model_module": "@jupyter-widgets/base",
          "model_module_version": "1.2.0",
          "model_name": "LayoutModel",
          "state": {
            "_model_module": "@jupyter-widgets/base",
            "_model_module_version": "1.2.0",
            "_model_name": "LayoutModel",
            "_view_count": null,
            "_view_module": "@jupyter-widgets/base",
            "_view_module_version": "1.2.0",
            "_view_name": "LayoutView",
            "align_content": null,
            "align_items": null,
            "align_self": null,
            "border": null,
            "bottom": null,
            "display": null,
            "flex": null,
            "flex_flow": null,
            "grid_area": null,
            "grid_auto_columns": null,
            "grid_auto_flow": null,
            "grid_auto_rows": null,
            "grid_column": null,
            "grid_gap": null,
            "grid_row": null,
            "grid_template_areas": null,
            "grid_template_columns": null,
            "grid_template_rows": null,
            "height": null,
            "justify_content": null,
            "justify_items": null,
            "left": null,
            "margin": null,
            "max_height": null,
            "max_width": null,
            "min_height": null,
            "min_width": null,
            "object_fit": null,
            "object_position": null,
            "order": null,
            "overflow": null,
            "overflow_x": null,
            "overflow_y": null,
            "padding": null,
            "right": null,
            "top": null,
            "visibility": null,
            "width": null
          }
        },
        "1037f5f8522d4f9dab224ccdbf2a7ca1": {
          "model_module": "@jupyter-widgets/controls",
          "model_module_version": "1.5.0",
          "model_name": "DescriptionStyleModel",
          "state": {
            "_model_module": "@jupyter-widgets/controls",
            "_model_module_version": "1.5.0",
            "_model_name": "DescriptionStyleModel",
            "_view_count": null,
            "_view_module": "@jupyter-widgets/base",
            "_view_module_version": "1.2.0",
            "_view_name": "StyleView",
            "description_width": ""
          }
        },
        "2f8b0d0510dc4bed9afbbd5e98c8fa4e": {
          "model_module": "@jupyter-widgets/controls",
          "model_module_version": "1.5.0",
          "model_name": "HBoxModel",
          "state": {
            "_dom_classes": [],
            "_model_module": "@jupyter-widgets/controls",
            "_model_module_version": "1.5.0",
            "_model_name": "HBoxModel",
            "_view_count": null,
            "_view_module": "@jupyter-widgets/controls",
            "_view_module_version": "1.5.0",
            "_view_name": "HBoxView",
            "box_style": "",
            "children": [
              "IPY_MODEL_4eae2f520a3b4aa0b3b68c2f3691cf72",
              "IPY_MODEL_5cfa324e78bd43e390579d198b120de2",
              "IPY_MODEL_3ff7576512c64e57b72b5c1d59f94442"
            ],
            "layout": "IPY_MODEL_eec3827a877446369c091c2f379f8ac0"
          }
        },
        "3e605c053a8f419b8b0a3db48340aa6b": {
          "model_module": "@jupyter-widgets/controls",
          "model_module_version": "1.5.0",
          "model_name": "ProgressStyleModel",
          "state": {
            "_model_module": "@jupyter-widgets/controls",
            "_model_module_version": "1.5.0",
            "_model_name": "ProgressStyleModel",
            "_view_count": null,
            "_view_module": "@jupyter-widgets/base",
            "_view_module_version": "1.2.0",
            "_view_name": "StyleView",
            "bar_color": null,
            "description_width": ""
          }
        },
        "3ff7576512c64e57b72b5c1d59f94442": {
          "model_module": "@jupyter-widgets/controls",
          "model_module_version": "1.5.0",
          "model_name": "HTMLModel",
          "state": {
            "_dom_classes": [],
            "_model_module": "@jupyter-widgets/controls",
            "_model_module_version": "1.5.0",
            "_model_name": "HTMLModel",
            "_view_count": null,
            "_view_module": "@jupyter-widgets/controls",
            "_view_module_version": "1.5.0",
            "_view_name": "HTMLView",
            "description": "",
            "description_tooltip": null,
            "layout": "IPY_MODEL_981b5f1c1b824863b8237ff660361486",
            "placeholder": "​",
            "style": "IPY_MODEL_ca119f6ad8a34f1ea4079ee3967d56d3",
            "value": " 83.3M/83.3M [00:01&lt;00:00, 87.9MB/s]"
          }
        },
        "4eae2f520a3b4aa0b3b68c2f3691cf72": {
          "model_module": "@jupyter-widgets/controls",
          "model_module_version": "1.5.0",
          "model_name": "HTMLModel",
          "state": {
            "_dom_classes": [],
            "_model_module": "@jupyter-widgets/controls",
            "_model_module_version": "1.5.0",
            "_model_name": "HTMLModel",
            "_view_count": null,
            "_view_module": "@jupyter-widgets/controls",
            "_view_module_version": "1.5.0",
            "_view_name": "HTMLView",
            "description": "",
            "description_tooltip": null,
            "layout": "IPY_MODEL_0f517685744f4b4d9b03564ea1c790e2",
            "placeholder": "​",
            "style": "IPY_MODEL_1037f5f8522d4f9dab224ccdbf2a7ca1",
            "value": "100%"
          }
        },
        "5cfa324e78bd43e390579d198b120de2": {
          "model_module": "@jupyter-widgets/controls",
          "model_module_version": "1.5.0",
          "model_name": "FloatProgressModel",
          "state": {
            "_dom_classes": [],
            "_model_module": "@jupyter-widgets/controls",
            "_model_module_version": "1.5.0",
            "_model_name": "FloatProgressModel",
            "_view_count": null,
            "_view_module": "@jupyter-widgets/controls",
            "_view_module_version": "1.5.0",
            "_view_name": "ProgressView",
            "bar_style": "success",
            "description": "",
            "description_tooltip": null,
            "layout": "IPY_MODEL_925cdd736bd4463c9286246e52e0364b",
            "max": 87319819,
            "min": 0,
            "orientation": "horizontal",
            "style": "IPY_MODEL_3e605c053a8f419b8b0a3db48340aa6b",
            "value": 87319819
          }
        },
        "925cdd736bd4463c9286246e52e0364b": {
          "model_module": "@jupyter-widgets/base",
          "model_module_version": "1.2.0",
          "model_name": "LayoutModel",
          "state": {
            "_model_module": "@jupyter-widgets/base",
            "_model_module_version": "1.2.0",
            "_model_name": "LayoutModel",
            "_view_count": null,
            "_view_module": "@jupyter-widgets/base",
            "_view_module_version": "1.2.0",
            "_view_name": "LayoutView",
            "align_content": null,
            "align_items": null,
            "align_self": null,
            "border": null,
            "bottom": null,
            "display": null,
            "flex": null,
            "flex_flow": null,
            "grid_area": null,
            "grid_auto_columns": null,
            "grid_auto_flow": null,
            "grid_auto_rows": null,
            "grid_column": null,
            "grid_gap": null,
            "grid_row": null,
            "grid_template_areas": null,
            "grid_template_columns": null,
            "grid_template_rows": null,
            "height": null,
            "justify_content": null,
            "justify_items": null,
            "left": null,
            "margin": null,
            "max_height": null,
            "max_width": null,
            "min_height": null,
            "min_width": null,
            "object_fit": null,
            "object_position": null,
            "order": null,
            "overflow": null,
            "overflow_x": null,
            "overflow_y": null,
            "padding": null,
            "right": null,
            "top": null,
            "visibility": null,
            "width": null
          }
        },
        "981b5f1c1b824863b8237ff660361486": {
          "model_module": "@jupyter-widgets/base",
          "model_module_version": "1.2.0",
          "model_name": "LayoutModel",
          "state": {
            "_model_module": "@jupyter-widgets/base",
            "_model_module_version": "1.2.0",
            "_model_name": "LayoutModel",
            "_view_count": null,
            "_view_module": "@jupyter-widgets/base",
            "_view_module_version": "1.2.0",
            "_view_name": "LayoutView",
            "align_content": null,
            "align_items": null,
            "align_self": null,
            "border": null,
            "bottom": null,
            "display": null,
            "flex": null,
            "flex_flow": null,
            "grid_area": null,
            "grid_auto_columns": null,
            "grid_auto_flow": null,
            "grid_auto_rows": null,
            "grid_column": null,
            "grid_gap": null,
            "grid_row": null,
            "grid_template_areas": null,
            "grid_template_columns": null,
            "grid_template_rows": null,
            "height": null,
            "justify_content": null,
            "justify_items": null,
            "left": null,
            "margin": null,
            "max_height": null,
            "max_width": null,
            "min_height": null,
            "min_width": null,
            "object_fit": null,
            "object_position": null,
            "order": null,
            "overflow": null,
            "overflow_x": null,
            "overflow_y": null,
            "padding": null,
            "right": null,
            "top": null,
            "visibility": null,
            "width": null
          }
        },
        "ca119f6ad8a34f1ea4079ee3967d56d3": {
          "model_module": "@jupyter-widgets/controls",
          "model_module_version": "1.5.0",
          "model_name": "DescriptionStyleModel",
          "state": {
            "_model_module": "@jupyter-widgets/controls",
            "_model_module_version": "1.5.0",
            "_model_name": "DescriptionStyleModel",
            "_view_count": null,
            "_view_module": "@jupyter-widgets/base",
            "_view_module_version": "1.2.0",
            "_view_name": "StyleView",
            "description_width": ""
          }
        },
        "eec3827a877446369c091c2f379f8ac0": {
          "model_module": "@jupyter-widgets/base",
          "model_module_version": "1.2.0",
          "model_name": "LayoutModel",
          "state": {
            "_model_module": "@jupyter-widgets/base",
            "_model_module_version": "1.2.0",
            "_model_name": "LayoutModel",
            "_view_count": null,
            "_view_module": "@jupyter-widgets/base",
            "_view_module_version": "1.2.0",
            "_view_name": "LayoutView",
            "align_content": null,
            "align_items": null,
            "align_self": null,
            "border": null,
            "bottom": null,
            "display": null,
            "flex": null,
            "flex_flow": null,
            "grid_area": null,
            "grid_auto_columns": null,
            "grid_auto_flow": null,
            "grid_auto_rows": null,
            "grid_column": null,
            "grid_gap": null,
            "grid_row": null,
            "grid_template_areas": null,
            "grid_template_columns": null,
            "grid_template_rows": null,
            "height": null,
            "justify_content": null,
            "justify_items": null,
            "left": null,
            "margin": null,
            "max_height": null,
            "max_width": null,
            "min_height": null,
            "min_width": null,
            "object_fit": null,
            "object_position": null,
            "order": null,
            "overflow": null,
            "overflow_x": null,
            "overflow_y": null,
            "padding": null,
            "right": null,
            "top": null,
            "visibility": null,
            "width": null
          }
        }
      }
    }
  },
  "nbformat": 4,
  "nbformat_minor": 0
}
